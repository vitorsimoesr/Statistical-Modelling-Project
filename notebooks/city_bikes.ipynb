{
 "cells": [
  {
   "cell_type": "markdown",
   "metadata": {},
   "source": [
    "# CityBikes"
   ]
  },
  {
   "cell_type": "markdown",
   "metadata": {},
   "source": [
    "Send a request to CityBikes for the city of your choice. "
   ]
  },
  {
   "cell_type": "code",
   "execution_count": 1,
   "metadata": {},
   "outputs": [],
   "source": [
    "import requests\n",
    "import pandas as pd\n",
    "from unidecode import unidecode\n",
    "\n",
    "networks_url = \"http://api.citybik.es/v2/networks\"\n",
    "response = requests.get(networks_url)\n",
    "data = response.json()"
   ]
  },
  {
   "cell_type": "markdown",
   "metadata": {},
   "source": [
    "Parse through the response to get the details you want for the bike stations in that city (latitude, longitude, number of bikes). "
   ]
  },
  {
   "cell_type": "code",
   "execution_count": 2,
   "metadata": {},
   "outputs": [
    {
     "name": "stdout",
     "output_type": "stream",
     "text": [
      "Found network: bikevitoria - Vitória\n"
     ]
    }
   ],
   "source": [
    "vitoria_network = None\n",
    "for network in data[\"networks\"]:\n",
    "    city = unidecode(network[\"location\"][\"city\"].lower())\n",
    "    if \"vitoria\" in city:\n",
    "        vitoria_network = network\n",
    "        print(\"Found network:\", network[\"id\"], \"-\", network[\"location\"][\"city\"])"
   ]
  },
  {
   "cell_type": "markdown",
   "metadata": {},
   "source": [
    "Put your parsed results into a DataFrame."
   ]
  },
  {
   "cell_type": "code",
   "execution_count": 3,
   "metadata": {},
   "outputs": [
    {
     "name": "stdout",
     "output_type": "stream",
     "text": [
      "                                          name  free_bikes   latitude  \\\n",
      "0              Mercado da Vila Rubim - Vitória           2 -20.321076   \n",
      "1            Santo Antônio - Prainha - Vitória           1 -20.311602   \n",
      "2                  Fábrica de Idéias - Vitória           6 -20.313714   \n",
      "3                      Reta da Penha - Vitória           0 -20.291052   \n",
      "4          SOE Jardim Camburi - Kids - Vitória           7 -20.266852   \n",
      "5                  Praça dos Desejos - Vitória           2 -20.303819   \n",
      "6                      SOE Beira Mar - Vitória           1 -20.318521   \n",
      "7   Baia de Skate - Praia de Camburi - Vitória           1 -20.272822   \n",
      "8    Prefeitura Municipal de Vitória - Vitória           0 -20.317976   \n",
      "9                     SICOOB Central - Vitória           2 -20.303622   \n",
      "10                        Goiabeiras - Vitória           3 -20.265986   \n",
      "11                     Praça do Papa - Vitória           0 -20.316604   \n",
      "12                           Itararé - Vitória           0 -20.295944   \n",
      "13                      UFES Maruípe - Vitória           0 -20.297161   \n",
      "14                        Inhanguetá - Vitória           0 -20.298717   \n",
      "15        Praça dos Namorados - Kids - Vitória           6 -20.300986   \n",
      "16         SICOOB - Praia de Camburi - Vitória           2 -20.282991   \n",
      "17                         Tancredão - Vitória           2 -20.319694   \n",
      "18                SOE Jardim Camburi - Vitória           4 -20.266777   \n",
      "19               Praça dos Namorados - Vitória           4 -20.301136   \n",
      "20                  Bairro Republica - Vitória           1 -20.270618   \n",
      "21  SICOOB - Praia de Camburi - Kids - Vitória           8 -20.283203   \n",
      "22                 Parque Zé da Bola - Vitória           7 -20.264926   \n",
      "23                      Vitória 360° - Vitória           1 -20.309364   \n",
      "24                  Ponte de Camburi - Vitória           8 -20.292566   \n",
      "25                    Grande Vitória - Vitória           1 -20.293644   \n",
      "26                   Sagrada Família - Vitória           4 -20.255398   \n",
      "27                       UNIMED Sede - Vitória           2 -20.311864   \n",
      "28   São Pedro I / Ilha das Caieiras - Vitória           2 -20.281569   \n",
      "29                 Estação Teste Vix - Vitória           0 -51.794122   \n",
      "30                     Cais do Porto - Vitória           2 -20.321630   \n",
      "31                        Aquaviário - Vitória           1 -20.318215   \n",
      "32                          Gurigica - Vitória           3 -20.305217   \n",
      "33                       SOE Camburi - Vitória           4 -20.287300   \n",
      "34        Escola da Vida - São Pedro - Vitória           3 -20.282557   \n",
      "35                       Campus UFES - Vitória           1 -20.279480   \n",
      "36                               EDP - Vitória           0 -20.311589   \n",
      "37              Praca Getúlio Vargas - Vitória           1 -20.320606   \n",
      "\n",
      "    longitude  \n",
      "0  -40.347709  \n",
      "1  -40.356076  \n",
      "2  -40.321245  \n",
      "3  -40.302753  \n",
      "4  -40.269320  \n",
      "5  -40.291623  \n",
      "6  -40.321594  \n",
      "7  -40.278998  \n",
      "8  -40.309655  \n",
      "9  -40.301387  \n",
      "10 -40.297910  \n",
      "11 -40.298205  \n",
      "12 -40.308043  \n",
      "13 -40.316817  \n",
      "14 -40.346238  \n",
      "15 -40.291304  \n",
      "16 -40.289351  \n",
      "17 -40.354368  \n",
      "18 -40.269178  \n",
      "19 -40.291422  \n",
      "20 -40.294112  \n",
      "21 -40.289501  \n",
      "22 -40.263272  \n",
      "23 -40.289922  \n",
      "24 -40.289228  \n",
      "25 -40.343526  \n",
      "26 -40.267150  \n",
      "27 -40.305411  \n",
      "28 -40.338803  \n",
      "29 -58.645340  \n",
      "30 -40.335530  \n",
      "31 -40.294391  \n",
      "32 -40.304326  \n",
      "33 -40.290770  \n",
      "34 -40.332897  \n",
      "35 -40.301016  \n",
      "36 -40.303693  \n",
      "37 -40.328204  \n",
      "Total stations: 38\n"
     ]
    }
   ],
   "source": [
    "if vitoria_network:\n",
    "    network_id = vitoria_network[\"id\"]\n",
    "    stations_url = f\"http://api.citybik.es/v2/networks/{network_id}\"\n",
    "    stations_response = requests.get(stations_url)\n",
    "\n",
    "    if stations_response.status_code == 200:\n",
    "        stations_data = stations_response.json()\n",
    "        stations = stations_data['network']['stations']\n",
    "\n",
    "        parsed = [\n",
    "            {\n",
    "                \"name\": station[\"name\"],\n",
    "                \"latitude\": station[\"latitude\"],\n",
    "                \"longitude\": station[\"longitude\"],\n",
    "                \"free_bikes\": station[\"free_bikes\"]\n",
    "            }\n",
    "            for station in stations\n",
    "        ]\n",
    "\n",
    "        df = pd.DataFrame(parsed)\n",
    "        pd.set_option('display.max_columns', None)\n",
    "        print(df[[\"name\", \"free_bikes\", \"latitude\", \"longitude\"]])\n",
    "        print(\"Total stations:\", len(df))\n",
    "    else:\n",
    "        print(\"Failed to retrieve station data.\")\n",
    "else:\n",
    "    print(\"Vitoria network not found.\")"
   ]
  },
  {
   "cell_type": "code",
   "execution_count": null,
   "metadata": {},
   "outputs": [],
   "source": [
    "df_stations = df \n",
    "df_stations.to_csv(\"bike_stations_vitoria.csv\", index=False)"
   ]
  }
 ],
 "metadata": {
  "kernelspec": {
   "display_name": "base",
   "language": "python",
   "name": "python3"
  },
  "language_info": {
   "codemirror_mode": {
    "name": "ipython",
    "version": 3
   },
   "file_extension": ".py",
   "mimetype": "text/x-python",
   "name": "python",
   "nbconvert_exporter": "python",
   "pygments_lexer": "ipython3",
   "version": "3.12.7"
  }
 },
 "nbformat": 4,
 "nbformat_minor": 4
}
