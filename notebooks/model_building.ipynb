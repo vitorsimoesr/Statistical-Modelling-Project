{
 "cells": [
  {
   "cell_type": "markdown",
   "metadata": {},
   "source": [
    "Build a regression model."
   ]
  },
  {
   "cell_type": "code",
   "execution_count": 1,
   "metadata": {},
   "outputs": [],
   "source": [
    "import pandas as pd\n",
    "import statsmodels.api as sm"
   ]
  },
  {
   "cell_type": "code",
   "execution_count": 2,
   "metadata": {},
   "outputs": [],
   "source": [
    "df = pd.read_csv(\"df_yelp_full.csv\")\n"
   ]
  },
  {
   "cell_type": "code",
   "execution_count": 4,
   "metadata": {},
   "outputs": [],
   "source": [
    "df = df.dropna(subset=[\"free_bikes\", \"rating\"])  \n",
    "\n",
    "X = df[[\"rating\"]]\n",
    "X = sm.add_constant(X)\n",
    "y = df[\"free_bikes\"]"
   ]
  },
  {
   "cell_type": "code",
   "execution_count": 5,
   "metadata": {},
   "outputs": [],
   "source": [
    "model = sm.OLS(y, X).fit()"
   ]
  },
  {
   "cell_type": "markdown",
   "metadata": {},
   "source": [
    "Provide model output and an interpretation of the results. "
   ]
  },
  {
   "cell_type": "code",
   "execution_count": 6,
   "metadata": {},
   "outputs": [
    {
     "name": "stdout",
     "output_type": "stream",
     "text": [
      "                            OLS Regression Results                            \n",
      "==============================================================================\n",
      "Dep. Variable:             free_bikes   R-squared:                       0.027\n",
      "Model:                            OLS   Adj. R-squared:                  0.026\n",
      "Method:                 Least Squares   F-statistic:                     19.30\n",
      "Date:                Tue, 08 Jul 2025   Prob (F-statistic):           1.29e-05\n",
      "Time:                        20:03:22   Log-Likelihood:                -1584.1\n",
      "No. Observations:                 698   AIC:                             3172.\n",
      "Df Residuals:                     696   BIC:                             3181.\n",
      "Df Model:                           1                                         \n",
      "Covariance Type:            nonrobust                                         \n",
      "==============================================================================\n",
      "                 coef    std err          t      P>|t|      [0.025      0.975]\n",
      "------------------------------------------------------------------------------\n",
      "const          2.2126      0.117     18.918      0.000       1.983       2.442\n",
      "rating         0.1773      0.040      4.393      0.000       0.098       0.257\n",
      "==============================================================================\n",
      "Omnibus:                       75.689   Durbin-Watson:                   0.140\n",
      "Prob(Omnibus):                  0.000   Jarque-Bera (JB):               99.941\n",
      "Skew:                           0.925   Prob(JB):                     1.99e-22\n",
      "Kurtosis:                       2.889   Cond. No.                         4.03\n",
      "==============================================================================\n",
      "\n",
      "Notes:\n",
      "[1] Standard Errors assume that the covariance matrix of the errors is correctly specified.\n"
     ]
    }
   ],
   "source": [
    "print(model.summary())"
   ]
  },
  {
   "cell_type": "markdown",
   "metadata": {},
   "source": [
    "The regression model examined at whether the number of free bikes at a station could be explained by the Yelp ratings of nearby places like restaurants and bars. The result showed a small positive relationship: stations near higher-rated spots had slightly more bikes available. For each extra star in rating, the number of bikes went up by about 0.18. But the R-squared was only 0.027, which means the model doesn’t explain much of what’s really going on. So even though the rating has some influence, it’s pretty limited, other factors are probably playing a bigger role."
   ]
  },
  {
   "cell_type": "markdown",
   "metadata": {},
   "source": [
    "# Stretch"
   ]
  },
  {
   "cell_type": "markdown",
   "metadata": {},
   "source": [
    "How can you turn the regression model into a classification model?"
   ]
  },
  {
   "cell_type": "markdown",
   "metadata": {},
   "source": [
    "To turn this into a classification model, I’d group the number of bikes into categories like “low” (0–2 bikes), “medium” (3–5), and “high” (6 or more). Instead of predicting the exact number, the model would try to predict which group a station falls into. Then I’d use something like logistic regression to see if things like the number of nearby restaurants, their type, or their ratings affect the chance of a station being in one category or another. This would help simplify the output and maybe even give more useful insights.\n",
    "\n"
   ]
  }
 ],
 "metadata": {
  "kernelspec": {
   "display_name": "base",
   "language": "python",
   "name": "python3"
  },
  "language_info": {
   "codemirror_mode": {
    "name": "ipython",
    "version": 3
   },
   "file_extension": ".py",
   "mimetype": "text/x-python",
   "name": "python",
   "nbconvert_exporter": "python",
   "pygments_lexer": "ipython3",
   "version": "3.12.7"
  }
 },
 "nbformat": 4,
 "nbformat_minor": 4
}
